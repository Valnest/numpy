{
  "nbformat": 4,
  "nbformat_minor": 0,
  "metadata": {
    "colab": {
      "provenance": [],
      "include_colab_link": true
    },
    "kernelspec": {
      "name": "python3",
      "display_name": "Python 3"
    },
    "language_info": {
      "name": "python"
    }
  },
  "cells": [
    {
      "cell_type": "markdown",
      "metadata": {
        "id": "view-in-github",
        "colab_type": "text"
      },
      "source": [
        "<a href=\"https://colab.research.google.com/github/Valnest/numpy/blob/master/W14S7.ipynb\" target=\"_parent\"><img src=\"https://colab.research.google.com/assets/colab-badge.svg\" alt=\"Open In Colab\"/></a>"
      ]
    },
    {
      "cell_type": "markdown",
      "source": [
        "# Webinar 14 -  Herramientas de Desarrollo para Data Analytics (Ahora en VSCode)🤓\n",
        "\n",
        "*Rodrigo Iasalvatore Moreno - 17 de Septiembre 2025*"
      ],
      "metadata": {
        "id": "Vqwe9D3bTjV4"
      }
    },
    {
      "cell_type": "markdown",
      "source": [
        "Las herramientas de desarrollo son como el kit de herramientas de un mecánico profesional: CLI es tu caja de herramientas básica (destornilladores, llaves), Conda es tu organizador de repuestos (mantiene todo ordenado y compatible), y Git es tu libro de registro de reparaciones (documenta cada cambio que haces).\n"
      ],
      "metadata": {
        "id": "MMQ14xwuOY_y"
      }
    },
    {
      "cell_type": "markdown",
      "source": [
        "# Comencemos! 🚀"
      ],
      "metadata": {
        "id": "l4e6nrFlt39p"
      }
    },
    {
      "cell_type": "markdown",
      "source": [
        "Seguiremos a Ana, una analista junior que acaba de unirse a un equipo de data science. En su primer día, debe configurar su entorno de trabajo en la nube, instalar las herramientas correctas, y colaborar en un proyecto existente. Cada herramienta que aprenda le permitirá trabajar de manera más profesional y eficiente."
      ],
      "metadata": {
        "id": "oXXFfR3bOivw"
      }
    },
    {
      "cell_type": "markdown",
      "source": [
        "## 🔧 CLI - Línea de Comandos (20 minutos)"
      ],
      "metadata": {
        "id": "to-LmUEO9DnJ"
      }
    },
    {
      "cell_type": "markdown",
      "source": [
        "https://www.warp.dev/"
      ],
      "metadata": {
        "id": "_ZD6mxw6p_aO"
      }
    },
    {
      "cell_type": "markdown",
      "source": [
        "Comenzamos con CLI porque es la herramienta más fundamental. Como la caja de herramientas básica de Ana, le permite hacer tareas simples pero esenciales de manera rápida y eficiente, incluyendo navegar por el sistema de archivos."
      ],
      "metadata": {
        "id": "nq9F9Bb_O4WY"
      }
    },
    {
      "cell_type": "code",
      "source": [],
      "metadata": {
        "id": "DfMCo1aYmw5a"
      },
      "execution_count": null,
      "outputs": []
    },
    {
      "cell_type": "markdown",
      "source": [
        "## 🔧 Conda - Gestión de Entornos (20 minutos)"
      ],
      "metadata": {
        "id": "gaBtLmCf9FhA"
      }
    },
    {
      "cell_type": "markdown",
      "source": [
        "https://docs.conda.io/en/latest/"
      ],
      "metadata": {
        "id": "jxhvAhadp3fd"
      }
    },
    {
      "cell_type": "markdown",
      "source": [
        "Google Colab no tiene Conda instalado por defecto. Necesita instalarlo desde cero, como un mecánico que debe conseguir y organizar sus herramientas especializadas antes de poder usarlas."
      ],
      "metadata": {
        "id": "fEG1UHTxPhgF"
      }
    },
    {
      "cell_type": "code",
      "source": [],
      "metadata": {
        "id": "pitZBqGx49Ht"
      },
      "execution_count": null,
      "outputs": []
    },
    {
      "cell_type": "markdown",
      "source": [
        "## 🔧 GIT - Control de Versiones (20 minutos)"
      ],
      "metadata": {
        "id": "H_f7kQEdPmow"
      }
    },
    {
      "cell_type": "markdown",
      "source": [
        "https://github.com/git-guides/install-git"
      ],
      "metadata": {
        "id": "7w6w35yNp1DC"
      }
    },
    {
      "cell_type": "markdown",
      "source": [
        "Como un mecánico que documenta cada reparación, Git le permite rastrear cada cambio, colaborar con otros, y recuperarse de errores."
      ],
      "metadata": {
        "id": "YmoowxfmPsyr"
      }
    },
    {
      "cell_type": "code",
      "source": [],
      "metadata": {
        "id": "5K_PIgmdpvfa"
      },
      "execution_count": null,
      "outputs": []
    },
    {
      "cell_type": "markdown",
      "source": [
        "# 📋 Resumen Completo: Herramientas de Desarrollo en la Nube\n",
        "\n",
        "## 🎯 Lo que Aprendimos Hoy\n",
        "\n",
        "### Funciones y Métodos de la Clase\n",
        "- **CLI Commands**: `pwd`, `ls`, `cd`, `mkdir`, `echo`, `cat`, `grep` - navegación completa y manipulación del sistema\n",
        "- **Conda**: Instalación desde cero, `conda create -n`, `conda install`, `conda env export/create` - gestión profesional de entornos\n",
        "- **Git**: `git init`, `git add`, `git commit`, `git status`, `git diff`, `git log` - control de versiones completo\n",
        "\n",
        "### Conceptos Clave de la Sesión\n",
        "- **CLI con Navegación**: Interfaz directa con el sistema incluyendo movimiento entre directorios con cd\n",
        "- **Instalación de Conda**: Proceso completo desde descarga hasta configuración en entornos cloud\n",
        "- **Control de Versiones**: Sistema de registro que permite colaboración profesional y recuperación ante errores\n",
        "\n",
        "## 🔧 Herramientas y Técnicas Complementarias\n",
        "\n",
        "### Métodos Relacionados que Debes Conocer\n",
        "- **CLI Avanzado**: `find`, `wc`, `sort`, `uniq` para procesamiento de datos en lote\n",
        "- **Conda Channels**: `-c conda-forge`, `-c bioconda` para acceder a repositorios especializados\n",
        "- **Git Branching**: `git branch`, `git merge`, `git checkout` para flujos de trabajo colaborativos\n",
        "\n",
        "### Conceptos Fundamentales del Ecosistema\n",
        "- **Instalación en Cloud**: Configurar herramientas de desarrollo en entornos temporales como Colab\n",
        "- **Reproducibilidad**: Capacidad de recrear exactamente el mismo entorno de trabajo\n",
        "- **Colaboración Distribuida**: Múltiples personas trabajando en el mismo código sin conflictos\n",
        "\n",
        "## 🎯 Cuándo Usar Cada Herramienta\n",
        "\n",
        "### Escenarios Específicos\n",
        "- **Navegación Rápida** → Usar `cd` para moverse eficientemente entre directorios del proyecto\n",
        "- **Nuevo Proyecto** → Instalar Conda desde cero y crear entorno virtual antes de cualquier desarrollo\n",
        "- **Cambios Importantes** → Hacer commit en Git antes de modificaciones significativas\n",
        "- **Colaboración** → Usar Git branches para trabajar en paralelo sin conflictos\n",
        "\n",
        "### Flujo de Trabajo Recomendado\n",
        "1. **Configuración**: Instalar Conda, crear entorno virtual específico para el proyecto\n",
        "2. **Desarrollo**: Usar CLI con cd para navegación, commits frecuentes en Git\n",
        "3. **Colaboración**: Exportar environment.yml, push a repositorio remoto\n",
        "4. **Mantenimiento**: Actualizar entornos, limpiar branches obsoletas\n",
        "\n",
        "## 📚 Conocimientos Esenciales del Analista\n",
        "\n",
        "### Mejores Prácticas\n",
        "- **Navegación Eficiente**: Usar cd para posicionarse correctamente antes de ejecutar comandos\n",
        "- **Instalación Limpia**: Instalar Conda desde cero para control total del entorno\n",
        "- **Commits Descriptivos**: Mensajes claros que explican QUÉ y POR QUÉ cambió\n",
        "- **Entornos Específicos**: Un entorno por proyecto, nunca instalar en base\n",
        "\n",
        "### Errores Comunes y Cómo Evitarlos\n",
        "- **Espacios en CLI** → Usar comillas: `cd \"mi carpeta\"` o escape: `cd mi\\ carpeta`\n",
        "- **PATH no configurado** → Usar ruta completa después de instalar: `/content/miniconda/bin/conda`\n",
        "- **Commits vacíos** → Verificar `git status` antes de commit, usar `git add` primero\n",
        "- **Entornos en base** → Siempre especificar entorno: `conda install -n mi_env paquete`\n",
        "\n",
        "### Recursos para Profundizar\n",
        "- **Documentación CLI**: `man comando` o `comando --help` para detalles\n",
        "- **Conda Documentation**: Guía oficial para instalación y gestión avanzada\n",
        "- **Pro Git Book**: Recurso completo gratuito para dominar Git\n",
        "- **GitHub Learning Lab**: Tutoriales interactivos para Git/GitHub\n"
      ],
      "metadata": {
        "id": "DfxQPqKU9Mo5"
      }
    },
    {
      "cell_type": "code",
      "source": [],
      "metadata": {
        "id": "CvBzQ-KDchnC"
      },
      "execution_count": null,
      "outputs": []
    }
  ]
}